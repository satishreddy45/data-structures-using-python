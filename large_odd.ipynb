{
 "cells": [
  {
   "cell_type": "code",
   "execution_count": 1,
   "id": "1ef278af-d6f5-4de8-a87f-b54fbabf57dd",
   "metadata": {},
   "outputs": [
    {
     "name": "stdout",
     "output_type": "stream",
     "text": [
      "Largest Odd: 9\n"
     ]
    }
   ],
   "source": [
    "def largest_odd(numbers):\n",
    "    largest = None\n",
    "    for num in numbers:\n",
    "        if num % 2 != 0:\n",
    "            if largest is None or num > largest:\n",
    "                largest = num\n",
    "    return largest\n",
    "numbers = [3, 1, 7, 2, 5, 9]\n",
    "print(\"Largest Odd:\", largest_odd(numbers))"
   ]
  },
  {
   "cell_type": "code",
   "execution_count": null,
   "id": "204b1d08-9d4b-425e-bfc0-0b1e084d4175",
   "metadata": {},
   "outputs": [],
   "source": []
  }
 ],
 "metadata": {
  "kernelspec": {
   "display_name": "Python 3 (ipykernel)",
   "language": "python",
   "name": "python3"
  },
  "language_info": {
   "codemirror_mode": {
    "name": "ipython",
    "version": 3
   },
   "file_extension": ".py",
   "mimetype": "text/x-python",
   "name": "python",
   "nbconvert_exporter": "python",
   "pygments_lexer": "ipython3",
   "version": "3.12.4"
  }
 },
 "nbformat": 4,
 "nbformat_minor": 5
}
