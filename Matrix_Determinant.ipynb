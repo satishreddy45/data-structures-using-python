{
 "cells": [
  {
   "cell_type": "code",
   "execution_count": 1,
   "id": "5d9463c1-1ede-4c83-8dde-87975e009ca7",
   "metadata": {},
   "outputs": [
    {
     "name": "stdout",
     "output_type": "stream",
     "text": [
      "Determinant: 9\n"
     ]
    }
   ],
   "source": [
    "def determinant(matrix, n):\n",
    "    if n == 1:\n",
    "        return matrix[0][0]\n",
    "    \n",
    "    det = 0\n",
    "    sign = 1\n",
    "    for f in range(n):\n",
    "        sub_matrix = [[matrix[i][j] for j in range(n) if j != f] for i in range(1, n)]\n",
    "        det += sign * matrix[0][f] * determinant(sub_matrix, n - 1)\n",
    "        sign = -sign  \n",
    "    \n",
    "    return det\n",
    "\n",
    "# Example\n",
    "matrix = [[2, 3, 1], [4, 5, 6], [7, 8, 9]]\n",
    "print(\"Determinant:\", determinant(matrix, len(matrix)))"
   ]
  },
  {
   "cell_type": "code",
   "execution_count": null,
   "id": "21c89ee6-71fd-4d97-93fc-7fe04878b0fc",
   "metadata": {},
   "outputs": [],
   "source": []
  }
 ],
 "metadata": {
  "kernelspec": {
   "display_name": "Python 3 (ipykernel)",
   "language": "python",
   "name": "python3"
  },
  "language_info": {
   "codemirror_mode": {
    "name": "ipython",
    "version": 3
   },
   "file_extension": ".py",
   "mimetype": "text/x-python",
   "name": "python",
   "nbconvert_exporter": "python",
   "pygments_lexer": "ipython3",
   "version": "3.12.4"
  }
 },
 "nbformat": 4,
 "nbformat_minor": 5
}
