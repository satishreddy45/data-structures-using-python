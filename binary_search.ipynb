{
 "cells": [
  {
   "cell_type": "code",
   "execution_count": 4,
   "id": "c54614bb-09d7-4d91-ade0-cc30425a77c2",
   "metadata": {},
   "outputs": [
    {
     "name": "stdin",
     "output_type": "stream",
     "text": [
      "Enter number of elements:  5\n"
     ]
    },
    {
     "name": "stdout",
     "output_type": "stream",
     "text": [
      "Enter elements in sorted order:\n"
     ]
    },
    {
     "name": "stdin",
     "output_type": "stream",
     "text": [
      " 10\n",
      " 20\n",
      " 30\n",
      " 40\n",
      " 50\n",
      "Enter the searching element:  30\n"
     ]
    },
    {
     "name": "stdout",
     "output_type": "stream",
     "text": [
      "Element is found at index 2\n"
     ]
    }
   ],
   "source": [
    "def binary_search(lst, key):\n",
    "    low = 0\n",
    "    high = len(lst) - 1\n",
    "\n",
    "    while low <= high:\n",
    "        mid = (low + high) //2\n",
    "\n",
    "        if lst[mid] == key:\n",
    "            return mid \n",
    "        elif key < lst[mid]:\n",
    "            high = mid - 1  \n",
    "        else:\n",
    "            low = mid + 1 \n",
    "\n",
    "    return -1  \n",
    "\n",
    "n = int(input(\"Enter number of elements: \"))\n",
    "lst = []\n",
    "\n",
    "print(\"Enter elements in sorted order:\")\n",
    "for i in range(n):\n",
    "    num = int(input())\n",
    "    lst.append(num)\n",
    "\n",
    "key = int(input(\"Enter the searching element: \"))\n",
    "position = binary_search(lst, key)\n",
    "\n",
    "\n",
    "if position == -1:\n",
    "    print(\"Element not found\")\n",
    "else:\n",
    "    print(f\"Element is found at index {position}\")"
   ]
  },
  {
   "cell_type": "code",
   "execution_count": null,
   "id": "90c3625f-6029-42cb-af0d-39cf92e297aa",
   "metadata": {},
   "outputs": [],
   "source": []
  }
 ],
 "metadata": {
  "kernelspec": {
   "display_name": "Python 3 (ipykernel)",
   "language": "python",
   "name": "python3"
  },
  "language_info": {
   "codemirror_mode": {
    "name": "ipython",
    "version": 3
   },
   "file_extension": ".py",
   "mimetype": "text/x-python",
   "name": "python",
   "nbconvert_exporter": "python",
   "pygments_lexer": "ipython3",
   "version": "3.12.4"
  }
 },
 "nbformat": 4,
 "nbformat_minor": 5
}
