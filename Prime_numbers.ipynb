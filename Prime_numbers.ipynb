{
 "cells": [
  {
   "cell_type": "code",
   "execution_count": 2,
   "id": "85c2db16-cbe4-4009-a2bd-a3562980d4d7",
   "metadata": {},
   "outputs": [
    {
     "name": "stdout",
     "output_type": "stream",
     "text": [
      "Prime Count: 4\n"
     ]
    }
   ],
   "source": [
    "def is_prime(n):\n",
    "    if n < 2:\n",
    "        return False\n",
    "    for i in range(2, n):  \n",
    "        if n % i == 0:\n",
    "            return False\n",
    "    return True\n",
    "\n",
    "def count_primes(numbers):\n",
    "    count = 0\n",
    "    for num in numbers:\n",
    "        if is_prime(num):\n",
    "            count += 1\n",
    "    return count\n",
    "\n",
    "numbers = [3, 1, 7, 2, 5, 9]\n",
    "print(\"Prime Count:\", count_primes(numbers))"
   ]
  },
  {
   "cell_type": "code",
   "execution_count": null,
   "id": "57f6600c-9da7-401f-897b-fc78b9256042",
   "metadata": {},
   "outputs": [],
   "source": []
  }
 ],
 "metadata": {
  "kernelspec": {
   "display_name": "Python 3 (ipykernel)",
   "language": "python",
   "name": "python3"
  },
  "language_info": {
   "codemirror_mode": {
    "name": "ipython",
    "version": 3
   },
   "file_extension": ".py",
   "mimetype": "text/x-python",
   "name": "python",
   "nbconvert_exporter": "python",
   "pygments_lexer": "ipython3",
   "version": "3.12.4"
  }
 },
 "nbformat": 4,
 "nbformat_minor": 5
}
