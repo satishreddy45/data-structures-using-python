{
 "cells": [
  {
   "cell_type": "code",
   "execution_count": 8,
   "id": "7c7b908b-8f61-494d-8071-e905b2d506a4",
   "metadata": {},
   "outputs": [
    {
     "name": "stdout",
     "output_type": "stream",
     "text": [
      "Linked list is empty\n"
     ]
    }
   ],
   "source": [
    "class Node:\n",
    "    def __init__(self,data):\n",
    "        self.data = data\n",
    "        self.next = None\n",
    "\n",
    "class SLL:\n",
    "    def __init__(self):\n",
    "        self.head = None\n",
    "\n",
    "    def delete_beg(self):\n",
    "        temp = self.head\n",
    "        self.head = temp.next\n",
    "        temp.next = None\n",
    "\n",
    "    def delete_end(self):\n",
    "            temp = self.head.next\n",
    "            prev = self.head\n",
    "            while temp.next is not None:\n",
    "                temp = temp.next\n",
    "                prev = prev.next\n",
    "            \n",
    "        prev.next = None\n",
    "\n",
    "    def delete_pos(self,pos):\n",
    "        prev = self.head\n",
    "        temp = self.head.next\n",
    "\n",
    "        for i in range(1, pos-1):\n",
    "            temp = temp.next\n",
    "            prev = prev.next\n",
    "        prev.next = temp.next\n",
    "\n",
    "    def display(self):\n",
    "        if self.head is None:\n",
    "            print(\"Linked list is empty\")\n",
    "        else:\n",
    "            temp = self.head\n",
    "            while temp:\n",
    "                print(temp.data,\"-->\",end=\" \")\n",
    "                temp = temp.next\n",
    "\n",
    "    \n",
    "    \n",
    "\n",
    "L = SLL()\n",
    "n1 = Node(10)\n",
    "L.head = n1\n",
    "\n",
    "n2 = Node(20)\n",
    "n1.next = n2\n",
    "\n",
    "n3 = Node(30)\n",
    "n2.next = n3\n",
    "\n",
    "n4 = Node(40)\n",
    "n3.next = n4\n",
    "\n",
    "n5 = Node(50)\n",
    "n4.next = n5\n",
    "\n",
    "# L.delete_beg()\n",
    "# L.delete_end()\n",
    "# L.delete_pos(3)\n",
    "L.display()    "
   ]
  },
  {
   "cell_type": "code",
   "execution_count": null,
   "id": "a1b46520-1f8a-4360-86db-b3f59b27b8e9",
   "metadata": {},
   "outputs": [],
   "source": []
  }
 ],
 "metadata": {
  "kernelspec": {
   "display_name": "Python 3 (ipykernel)",
   "language": "python",
   "name": "python3"
  },
  "language_info": {
   "codemirror_mode": {
    "name": "ipython",
    "version": 3
   },
   "file_extension": ".py",
   "mimetype": "text/x-python",
   "name": "python",
   "nbconvert_exporter": "python",
   "pygments_lexer": "ipython3",
   "version": "3.12.2"
  }
 },
 "nbformat": 4,
 "nbformat_minor": 5
}
