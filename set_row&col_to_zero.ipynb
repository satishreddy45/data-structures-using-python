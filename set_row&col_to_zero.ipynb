{
 "cells": [
  {
   "cell_type": "code",
   "execution_count": 1,
   "id": "56885312-2c8c-44ee-96f4-de2c05bf2080",
   "metadata": {},
   "outputs": [
    {
     "name": "stdout",
     "output_type": "stream",
     "text": [
      "Updated Matrix:\n",
      "[1, 0, 1]\n",
      "[0, 0, 0]\n",
      "[1, 0, 1]\n"
     ]
    }
   ],
   "source": [
    "def set_zeroes(matrix):\n",
    "    m, n = len(matrix), len(matrix[0])\n",
    "    row_flag = [0] * m\n",
    "    col_flag = [0] * n\n",
    "\n",
    "    for i in range(m):\n",
    "        for j in range(n):\n",
    "            if matrix[i][j] == 0:\n",
    "                row_flag[i] = 1\n",
    "                col_flag[j] = 1\n",
    "    \n",
    "    for i in range(m):\n",
    "        for j in range(n):\n",
    "            if row_flag[i] == 1 or col_flag[j] == 1:\n",
    "                matrix[i][j] = 0\n",
    "    \n",
    "    return matrix\n",
    "\n",
    "# Example\n",
    "matrix = [\n",
    "    [1, 1, 1],\n",
    "    [1, 0, 1],\n",
    "    [1, 1, 1]\n",
    "]\n",
    "\n",
    "print(\"Updated Matrix:\")\n",
    "for row in set_zeroes(matrix):\n",
    "    print(row)"
   ]
  },
  {
   "cell_type": "code",
   "execution_count": null,
   "id": "d92024c2-6000-45da-ae52-e35acd779888",
   "metadata": {},
   "outputs": [],
   "source": []
  }
 ],
 "metadata": {
  "kernelspec": {
   "display_name": "Python 3 (ipykernel)",
   "language": "python",
   "name": "python3"
  },
  "language_info": {
   "codemirror_mode": {
    "name": "ipython",
    "version": 3
   },
   "file_extension": ".py",
   "mimetype": "text/x-python",
   "name": "python",
   "nbconvert_exporter": "python",
   "pygments_lexer": "ipython3",
   "version": "3.12.4"
  }
 },
 "nbformat": 4,
 "nbformat_minor": 5
}
