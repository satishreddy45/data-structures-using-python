{
 "cells": [
  {
   "cell_type": "code",
   "execution_count": 1,
   "id": "4d25001b-98b1-4f1f-9bff-7321dc7005a6",
   "metadata": {},
   "outputs": [
    {
     "name": "stdout",
     "output_type": "stream",
     "text": [
      "[5 4 8 7 2 5 3]\n"
     ]
    }
   ],
   "source": [
    "import numpy as np\n",
    "x = np.array([3,5,2,7,8,4,5])\n",
    "type(x)\n",
    "print(x[::-1])"
   ]
  },
  {
   "cell_type": "code",
   "execution_count": 4,
   "id": "1beb84ee-dfff-4afc-8cd9-bce99940353e",
   "metadata": {},
   "outputs": [
    {
     "name": "stdout",
     "output_type": "stream",
     "text": [
      "[5, 4, 8, 7, 2, 5, 3]\n"
     ]
    }
   ],
   "source": [
    "import numpy as np\n",
    "x = np.array([3,5,2,7,8,4,5])\n",
    "type(x)\n",
    "n = len(x)\n",
    "new = []\n",
    "for i in range(n-1,-1,-1):\n",
    "    new.append(x[i])\n",
    "\n",
    "print(new)"
   ]
  },
  {
   "cell_type": "code",
   "execution_count": 5,
   "id": "0faaf097-0f6f-45f3-a1d0-94e8ffc653fd",
   "metadata": {},
   "outputs": [
    {
     "name": "stdout",
     "output_type": "stream",
     "text": [
      "<class 'array.array'>\n",
      "Sum 34\n",
      "Average: 4.857142857142857\n"
     ]
    }
   ],
   "source": [
    "import array as ar\n",
    "x= ar.array('i',[3,5,2,7,8,4,5])\n",
    "print(type(x))\n",
    "x_sum=sum(x)\n",
    "print(\"Sum\",x_sum)\n",
    "length=len(x)\n",
    "average=x_sum/length\n",
    "print(\"Average:\",average)"
   ]
  },
  {
   "cell_type": "code",
   "execution_count": 6,
   "id": "29e5ed2c-5780-4345-bd77-7de2cbe50d22",
   "metadata": {},
   "outputs": [
    {
     "name": "stdout",
     "output_type": "stream",
     "text": [
      "<class 'numpy.ndarray'>\n",
      "10\n",
      "9\n",
      "8\n",
      "7\n",
      "6\n",
      "5\n",
      "4\n",
      "3\n",
      "2\n",
      "1\n"
     ]
    }
   ],
   "source": [
    "#Using Looping\n",
    "x= np.array([1,2,3,4,5,6,7,8,9,10])\n",
    "print(type(x))\n",
    "n=len(x)\n",
    "for i in range(n-1,-1,-1):\n",
    "    print(x[i])"
   ]
  },
  {
   "cell_type": "code",
   "execution_count": 7,
   "id": "46487544-f09e-4b76-9c9f-8daec8a8b25e",
   "metadata": {},
   "outputs": [
    {
     "name": "stdout",
     "output_type": "stream",
     "text": [
      "<class 'numpy.ndarray'>\n",
      "[3, 5, 2, 7, 8, 4]\n"
     ]
    }
   ],
   "source": [
    "#\n",
    "import numpy as np\n",
    "x= np.array([3,5,5,2,7,8,8,4,4,5])\n",
    "print(type(x))\n",
    "def remove_duplicates(x):\n",
    "    new_arr=[]\n",
    "    for i in x:\n",
    "        if i not in new_arr:\n",
    "            new_arr.append(i)\n",
    "    return new_arr\n",
    "result=remove_duplicates(x)\n",
    "print(result)"
   ]
  },
  {
   "cell_type": "code",
   "execution_count": 8,
   "id": "35d24605-5255-48c9-85b4-d3d810b59e9a",
   "metadata": {},
   "outputs": [
    {
     "name": "stdout",
     "output_type": "stream",
     "text": [
      "<class 'numpy.ndarray'>\n",
      "[2 3 4 5 7 8]\n"
     ]
    }
   ],
   "source": [
    "#Use Type-Conversion\n",
    "x= np.array([3,5,5,2,7,8,8,4,4,5])\n",
    "print(type(x))\n",
    "def remove_duplicates(x):\n",
    "   unique_elements=list(set(x))\n",
    "   return np.array(unique_elements)\n",
    "\n",
    "result=remove_duplicates(x)\n",
    "print(result)"
   ]
  },
  {
   "cell_type": "code",
   "execution_count": 4,
   "id": "978dcfb8-3c7e-4fb3-8c68-c473f63b5084",
   "metadata": {},
   "outputs": [
    {
     "name": "stdin",
     "output_type": "stream",
     "text": [
      "Enter the element to find:  20\n"
     ]
    },
    {
     "name": "stdout",
     "output_type": "stream",
     "text": [
      "1\n"
     ]
    }
   ],
   "source": [
    "import array as arr\n",
    "\n",
    "# Corrected array declaration\n",
    "x = arr.array('i', [10, 20, 30, 60, 50])\n",
    "\n",
    "ele = int(input(\"Enter the element to find: \"))\n",
    "\n",
    "def e_index(x, ele):\n",
    "    n = len(x)\n",
    "    try:\n",
    "        for i in range(n):\n",
    "            if x[i] == ele: \n",
    "                return i\n",
    "        raise ValueError \n",
    "    except ValueError:\n",
    "        return -1  \n",
    "\n",
    "result = e_index(x, ele)\n",
    "print(result)"
   ]
  },
  {
   "cell_type": "code",
   "execution_count": 5,
   "id": "09bc3cf4-2a83-43bf-8700-f198a6dcb39b",
   "metadata": {},
   "outputs": [
    {
     "name": "stdin",
     "output_type": "stream",
     "text": [
      "Enter the element to find:  20\n"
     ]
    },
    {
     "name": "stdout",
     "output_type": "stream",
     "text": [
      "1\n"
     ]
    }
   ],
   "source": [
    "import numpy as np\n",
    "\n",
    "# Corrected array declaration\n",
    "x = np.array([10, 20, 30, 60, 50])\n",
    "\n",
    "ele = int(input(\"Enter the element to find: \"))\n",
    "\n",
    "def e_index(x, ele):\n",
    "    n = len(x)\n",
    "    try:\n",
    "        for i in range(n):\n",
    "            if x[i] == ele: \n",
    "                return i\n",
    "        raise ValueError \n",
    "    except ValueError:\n",
    "        return -1  \n",
    "\n",
    "result = e_index(x, ele)\n",
    "print(result)"
   ]
  },
  {
   "cell_type": "code",
   "execution_count": null,
   "id": "e1952089-a4df-4188-94b9-2b4c369c03d8",
   "metadata": {},
   "outputs": [],
   "source": []
  }
 ],
 "metadata": {
  "kernelspec": {
   "display_name": "Python 3 (ipykernel)",
   "language": "python",
   "name": "python3"
  },
  "language_info": {
   "codemirror_mode": {
    "name": "ipython",
    "version": 3
   },
   "file_extension": ".py",
   "mimetype": "text/x-python",
   "name": "python",
   "nbconvert_exporter": "python",
   "pygments_lexer": "ipython3",
   "version": "3.12.4"
  }
 },
 "nbformat": 4,
 "nbformat_minor": 5
}
