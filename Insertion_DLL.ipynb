{
 "cells": [
  {
   "cell_type": "code",
   "execution_count": 2,
   "id": "1262ccb8-3cfe-4f4d-b5bd-ce0484331af4",
   "metadata": {},
   "outputs": [
    {
     "name": "stdout",
     "output_type": "stream",
     "text": [
      "5 --> 10 --> 20 --> 30 --> None\n"
     ]
    }
   ],
   "source": [
    "class Node:\n",
    "    def __init__(self,data):\n",
    "        self.data = data\n",
    "        self.prev = None\n",
    "        self.next = None\n",
    "\n",
    "class DLL:\n",
    "    def __init__(self):\n",
    "        self.head = None\n",
    "\n",
    "    def insert_beg(self,data):\n",
    "        x = Node(data)\n",
    "        temp = self.head\n",
    "\n",
    "        x.next = temp\n",
    "        temp.prev = x\n",
    "        self.head = x\n",
    "\n",
    "    def insert_end(self,data):\n",
    "        y = Node(data)\n",
    "        temp = self.head\n",
    "\n",
    "        while temp.next is not None:\n",
    "            temp = temp.next\n",
    "\n",
    "        temp.next = y\n",
    "        y.prev = temp\n",
    "\n",
    "\n",
    "    def insert_pos(self,data,pos):\n",
    "        n = Node(data)\n",
    "        temp = self.head\n",
    "\n",
    "        for i in range(1,pos-1):\n",
    "            if temp is None:\n",
    "                print(\"Position out of bounds\")\n",
    "                return\n",
    "            temp = temp.next\n",
    "\n",
    "        n.next = temp.next\n",
    "        n.prev = temp\n",
    "        temp.next.prev = n\n",
    "        temp.next = n\n",
    "        \n",
    "    \n",
    "    def display(self):\n",
    "        if self.head is None:\n",
    "            print(\"LL is Empty\")\n",
    "        else:\n",
    "            temp = self.head\n",
    "            while temp:\n",
    "                print(temp.data,\"-->\", end=\" \")\n",
    "                temp = temp.next\n",
    "            print(\"None\")\n",
    "\n",
    "D = DLL()\n",
    "\n",
    "n1 = Node(10)\n",
    "D.head = n1\n",
    "\n",
    "n2 = Node(20)\n",
    "n2.prev = n1\n",
    "n1.next = n2\n",
    "\n",
    "n3 = Node(30)\n",
    "n3.prev = n2\n",
    "n2.next = n3\n",
    "\n",
    "\n",
    "D.insert_beg(5)\n",
    "# D.insert_end(40)\n",
    "# D.insert_pos(25,4)\n",
    "D.display()"
   ]
  },
  {
   "cell_type": "code",
   "execution_count": null,
   "id": "15bce362-10d9-4d2b-aef8-bab9f2d4662b",
   "metadata": {},
   "outputs": [],
   "source": []
  }
 ],
 "metadata": {
  "kernelspec": {
   "display_name": "Python 3 (ipykernel)",
   "language": "python",
   "name": "python3"
  },
  "language_info": {
   "codemirror_mode": {
    "name": "ipython",
    "version": 3
   },
   "file_extension": ".py",
   "mimetype": "text/x-python",
   "name": "python",
   "nbconvert_exporter": "python",
   "pygments_lexer": "ipython3",
   "version": "3.12.2"
  }
 },
 "nbformat": 4,
 "nbformat_minor": 5
}
