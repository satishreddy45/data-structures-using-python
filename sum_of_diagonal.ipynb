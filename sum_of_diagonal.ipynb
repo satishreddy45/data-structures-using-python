{
 "cells": [
  {
   "cell_type": "code",
   "execution_count": 1,
   "id": "5c58bb87-5da8-487d-95d6-38ac15bad7d3",
   "metadata": {},
   "outputs": [
    {
     "name": "stdout",
     "output_type": "stream",
     "text": [
      "Sum of Diagonal Elements: 16\n"
     ]
    }
   ],
   "source": [
    "def sum_of_diagonal(matrix, n):\n",
    "    diagonal_sum = 0\n",
    "    for i in range(n):\n",
    "        diagonal_sum += matrix[i][i]\n",
    "    return diagonal_sum\n",
    "\n",
    "matrix = [[2, 3, 1], [4, 5, 6], [7, 8, 9]]\n",
    "print(\"Sum of Diagonal Elements:\", sum_of_diagonal(matrix, len(matrix)))"
   ]
  },
  {
   "cell_type": "code",
   "execution_count": null,
   "id": "82b48dbe-796d-40d7-904b-2f0ddd76ecab",
   "metadata": {},
   "outputs": [],
   "source": []
  }
 ],
 "metadata": {
  "kernelspec": {
   "display_name": "Python 3 (ipykernel)",
   "language": "python",
   "name": "python3"
  },
  "language_info": {
   "codemirror_mode": {
    "name": "ipython",
    "version": 3
   },
   "file_extension": ".py",
   "mimetype": "text/x-python",
   "name": "python",
   "nbconvert_exporter": "python",
   "pygments_lexer": "ipython3",
   "version": "3.12.4"
  }
 },
 "nbformat": 4,
 "nbformat_minor": 5
}
