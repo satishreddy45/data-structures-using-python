{
 "cells": [
  {
   "cell_type": "code",
   "execution_count": 31,
   "id": "133fcb4d-ad3f-46aa-84e5-a1955c9558b6",
   "metadata": {},
   "outputs": [
    {
     "name": "stdout",
     "output_type": "stream",
     "text": [
      "5 --> 10 --> 20 --> 25 --> 30 --> 40 --> None\n"
     ]
    }
   ],
   "source": [
    "class Node:\n",
    "    def __init__(self,data):\n",
    "        self.data = data\n",
    "        self.next = None\n",
    "\n",
    "class Single_LL:\n",
    "    def __init__(self):\n",
    "        self.head = None\n",
    "\n",
    "    def insert_beg(self,data):\n",
    "        newNode = Node(data)\n",
    "        newNode.next = self.head\n",
    "        self.head = newNode\n",
    "        \n",
    "\n",
    "    def insert_end(self,data):\n",
    "        newNode = Node(data)\n",
    "        temp = self.head\n",
    "\n",
    "        while temp.next:\n",
    "            temp = temp.next\n",
    "        temp.next = newNode\n",
    "        \n",
    "\n",
    "    def insert_pos(self,pos,data):\n",
    "        newNode = Node(data)\n",
    "        temp = self.head\n",
    "\n",
    "        for i in range(0,pos-1):\n",
    "            if temp is None:\n",
    "                print(\"Position out of bounds\")\n",
    "                return\n",
    "            temp = temp.next\n",
    "\n",
    "        newNode.next = temp.next \n",
    "        temp.next = newNode\n",
    "\n",
    "        \n",
    "    \n",
    "    def display(self):\n",
    "        if self.head is None:\n",
    "            print(\"LL is empty\")\n",
    "        else:\n",
    "            temp = self.head\n",
    "            while temp:\n",
    "                print(temp.data,\"-->\",end=\" \")\n",
    "                temp = temp.next\n",
    "            print(\"None\")\n",
    "            \n",
    "L = Single_LL()\n",
    "\n",
    "N = Node(10)\n",
    "L.head = N\n",
    "n1 = Node(20)\n",
    "L.head.next = n1\n",
    "n2 = Node(30)\n",
    "n1.next = n2\n",
    "\n",
    "\n",
    "L.insert_beg(5)\n",
    "L.insert_end(40)\n",
    "L.insert_pos(3,25)\n",
    "L.display()"
   ]
  },
  {
   "cell_type": "code",
   "execution_count": null,
   "id": "0169efb1-ec4a-4fab-bcbc-6a71559f7630",
   "metadata": {},
   "outputs": [],
   "source": [
    " "
   ]
  }
 ],
 "metadata": {
  "kernelspec": {
   "display_name": "Python 3 (ipykernel)",
   "language": "python",
   "name": "python3"
  },
  "language_info": {
   "codemirror_mode": {
    "name": "ipython",
    "version": 3
   },
   "file_extension": ".py",
   "mimetype": "text/x-python",
   "name": "python",
   "nbconvert_exporter": "python",
   "pygments_lexer": "ipython3",
   "version": "3.12.2"
  }
 },
 "nbformat": 4,
 "nbformat_minor": 5
}
