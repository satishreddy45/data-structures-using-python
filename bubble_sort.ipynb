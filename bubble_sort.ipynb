{
 "cells": [
  {
   "cell_type": "code",
   "execution_count": 12,
   "id": "d4a7617a-63c9-4cd5-9543-f2623f1b4121",
   "metadata": {},
   "outputs": [
    {
     "name": "stdout",
     "output_type": "stream",
     "text": [
      "Before sorting: [6, 5, 2, 8, 9, 4]\n",
      "\n",
      "\n",
      "After sorting: [5, 2, 6, 8, 4, 9]\n",
      "After sorting: [2, 5, 6, 4, 8, 9]\n",
      "After sorting: [2, 5, 4, 6, 8, 9]\n",
      "After sorting: [2, 4, 5, 6, 8, 9]\n",
      "After sorting: [2, 4, 5, 6, 8, 9]\n",
      "After sorting: [2, 4, 5, 6, 8, 9]\n"
     ]
    }
   ],
   "source": [
    "num = [6, 5, 2, 8, 9, 4]  # List of numbers to sort\n",
    "size = len(num)  \n",
    "\n",
    "# Print the array before sorting\n",
    "print(\"Before sorting:\", num)\n",
    "print(\"\\n\")\n",
    "\n",
    "# Bubble Sort Algorithm\n",
    "for i in range(0, size):\n",
    "    for j in range(0, size - i - 1):\n",
    "        if num[j] > num[j + 1]:\n",
    "            # Swap the elements\n",
    "            num[j], num[j + 1] = num[j + 1], num[j]\n",
    "    print(\"After sorting:\", num)"
   ]
  },
  {
   "cell_type": "code",
   "execution_count": null,
   "id": "4ba886da-7e55-4b56-a0b2-8fdda2b6dc87",
   "metadata": {},
   "outputs": [],
   "source": []
  }
 ],
 "metadata": {
  "kernelspec": {
   "display_name": "Python 3 (ipykernel)",
   "language": "python",
   "name": "python3"
  },
  "language_info": {
   "codemirror_mode": {
    "name": "ipython",
    "version": 3
   },
   "file_extension": ".py",
   "mimetype": "text/x-python",
   "name": "python",
   "nbconvert_exporter": "python",
   "pygments_lexer": "ipython3",
   "version": "3.12.2"
  }
 },
 "nbformat": 4,
 "nbformat_minor": 5
}
