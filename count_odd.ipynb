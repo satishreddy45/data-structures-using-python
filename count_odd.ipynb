{
 "cells": [
  {
   "cell_type": "code",
   "execution_count": 1,
   "id": "df4e78fe-03e1-4982-ab36-2e64f72f0fce",
   "metadata": {},
   "outputs": [
    {
     "name": "stdout",
     "output_type": "stream",
     "text": [
      "Count of odd numbers: 5\n"
     ]
    }
   ],
   "source": [
    "def count_odds(numbers):\n",
    "    count = 0\n",
    "    for num in numbers:\n",
    "        if num % 2 != 0:\n",
    "            count += 1\n",
    "    return count\n",
    "\n",
    "numbers = [3, 1, 7, 2, 5, 9]\n",
    "print(\"Count of odd numbers:\", count_odds(numbers))"
   ]
  },
  {
   "cell_type": "code",
   "execution_count": null,
   "id": "40609fea-1524-4ca4-b85b-0b30e3b3bf67",
   "metadata": {},
   "outputs": [],
   "source": []
  }
 ],
 "metadata": {
  "kernelspec": {
   "display_name": "Python 3 (ipykernel)",
   "language": "python",
   "name": "python3"
  },
  "language_info": {
   "codemirror_mode": {
    "name": "ipython",
    "version": 3
   },
   "file_extension": ".py",
   "mimetype": "text/x-python",
   "name": "python",
   "nbconvert_exporter": "python",
   "pygments_lexer": "ipython3",
   "version": "3.12.4"
  }
 },
 "nbformat": 4,
 "nbformat_minor": 5
}
