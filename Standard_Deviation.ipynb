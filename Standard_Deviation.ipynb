{
 "cells": [
  {
   "cell_type": "code",
   "execution_count": 2,
   "id": "e55312b2-17f1-400e-8fc2-d1a220415364",
   "metadata": {},
   "outputs": [
    {
     "name": "stdout",
     "output_type": "stream",
     "text": [
      "Standard deviation: 2.8136571693556887\n"
     ]
    }
   ],
   "source": [
    "def standard_deviation(numbers):\n",
    "    sum_values = 0\n",
    "    n = len(numbers)\n",
    "    \n",
    "    for num in numbers:\n",
    "        sum_values += num\n",
    "    mean = sum_values / n\n",
    "    \n",
    "    variance_sum = 0\n",
    "    for num in numbers:\n",
    "        variance_sum += (num - mean) ** 2\n",
    "    variance = variance_sum / n\n",
    "    \n",
    "    std_dev = variance ** 0.5\n",
    "    return std_dev\n",
    "\n",
    "numbers = [3, 1, 7, 2, 5, 9]\n",
    "print(\"Standard deviation:\", standard_deviation(numbers))"
   ]
  },
  {
   "cell_type": "code",
   "execution_count": null,
   "id": "3886d970-dc3a-460b-b2ea-4bac622f6c02",
   "metadata": {},
   "outputs": [],
   "source": []
  }
 ],
 "metadata": {
  "kernelspec": {
   "display_name": "Python 3 (ipykernel)",
   "language": "python",
   "name": "python3"
  },
  "language_info": {
   "codemirror_mode": {
    "name": "ipython",
    "version": 3
   },
   "file_extension": ".py",
   "mimetype": "text/x-python",
   "name": "python",
   "nbconvert_exporter": "python",
   "pygments_lexer": "ipython3",
   "version": "3.12.4"
  }
 },
 "nbformat": 4,
 "nbformat_minor": 5
}
