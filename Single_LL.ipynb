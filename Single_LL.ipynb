{
 "cells": [
  {
   "cell_type": "code",
   "execution_count": 10,
   "id": "29fcb5ff-70d3-407e-b506-95d7bf42e2b8",
   "metadata": {},
   "outputs": [
    {
     "name": "stdout",
     "output_type": "stream",
     "text": [
      "10 --> 20 --> 30 --> "
     ]
    }
   ],
   "source": [
    "class Node:\n",
    "    def __init__(self,data):\n",
    "        self.data = data\n",
    "        self.next = None\n",
    "\n",
    "class SLL:\n",
    "    def __init__(self):\n",
    "        self.head = None\n",
    "\n",
    "    def display(self):\n",
    "        temp = self.head\n",
    "\n",
    "        if self.head is None:\n",
    "            print(\"LL is Empty\")\n",
    "        else:\n",
    "            while temp:\n",
    "                print(temp.data,\"-->\",end=\" \")\n",
    "                temp = temp.next\n",
    "\n",
    "L = SLL()\n",
    "N = Node(10)\n",
    "L.head = N\n",
    "n1 = Node(20)\n",
    "L.head.next = n1\n",
    "n2 = Node(30)\n",
    "n1.next = n2\n",
    "\n",
    "L.display()"
   ]
  },
  {
   "cell_type": "code",
   "execution_count": null,
   "id": "19380b21-a9c0-4ab4-b183-281bcd1f8ed8",
   "metadata": {},
   "outputs": [],
   "source": []
  }
 ],
 "metadata": {
  "kernelspec": {
   "display_name": "Python 3 (ipykernel)",
   "language": "python",
   "name": "python3"
  },
  "language_info": {
   "codemirror_mode": {
    "name": "ipython",
    "version": 3
   },
   "file_extension": ".py",
   "mimetype": "text/x-python",
   "name": "python",
   "nbconvert_exporter": "python",
   "pygments_lexer": "ipython3",
   "version": "3.12.2"
  }
 },
 "nbformat": 4,
 "nbformat_minor": 5
}
