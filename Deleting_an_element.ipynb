{
 "cells": [
  {
   "cell_type": "code",
   "execution_count": 4,
   "id": "9b89f749-e685-4444-83fe-8822aa061618",
   "metadata": {},
   "outputs": [
    {
     "name": "stdout",
     "output_type": "stream",
     "text": [
      "Original array: [10, 20, 30, 40, 50]\n",
      "Array after deleting element at index 2 : [10, 20, 40, 50]\n"
     ]
    }
   ],
   "source": [
    "def delete_at_k(arr, k):\n",
    "    if k < 0 or k >= len(arr):\n",
    "        return arr  \n",
    "    for i in range(k, len(arr) - 1):\n",
    "        arr[i] = arr[i + 1] \n",
    "    arr.pop()\n",
    "    return arr\n",
    "\n",
    "arr = [10, 20, 30, 40, 50]\n",
    "k = 2\n",
    "print(\"Original array:\", arr)\n",
    "print(\"Array after deleting element at index\", k, \":\", delete_at_k(arr, k))"
   ]
  },
  {
   "cell_type": "code",
   "execution_count": null,
   "id": "15560974-c07a-46ed-a743-8f169b476832",
   "metadata": {},
   "outputs": [],
   "source": []
  }
 ],
 "metadata": {
  "kernelspec": {
   "display_name": "Python 3 (ipykernel)",
   "language": "python",
   "name": "python3"
  },
  "language_info": {
   "codemirror_mode": {
    "name": "ipython",
    "version": 3
   },
   "file_extension": ".py",
   "mimetype": "text/x-python",
   "name": "python",
   "nbconvert_exporter": "python",
   "pygments_lexer": "ipython3",
   "version": "3.12.4"
  }
 },
 "nbformat": 4,
 "nbformat_minor": 5
}
