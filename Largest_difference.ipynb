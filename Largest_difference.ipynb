{
 "cells": [
  {
   "cell_type": "code",
   "execution_count": 1,
   "id": "0b8ed402-04ca-47b6-94c1-4a91a294376b",
   "metadata": {},
   "outputs": [
    {
     "name": "stdout",
     "output_type": "stream",
     "text": [
      "Largest Difference: 8\n"
     ]
    }
   ],
   "source": [
    "def largest_difference(numbers):\n",
    "    smallest, largest = numbers[0], numbers[0]\n",
    "    for num in numbers:\n",
    "        if num < smallest:\n",
    "            smallest = num\n",
    "        if num > largest:\n",
    "            largest = num\n",
    "    return largest - smallest\n",
    "numbers = [3, 1, 7, 2, 5, 9]\n",
    "print(\"Largest Difference:\", largest_difference(numbers))"
   ]
  },
  {
   "cell_type": "code",
   "execution_count": null,
   "id": "0de3d1e9-3414-47d2-8f4f-688bbec5c51d",
   "metadata": {},
   "outputs": [],
   "source": []
  }
 ],
 "metadata": {
  "kernelspec": {
   "display_name": "Python 3 (ipykernel)",
   "language": "python",
   "name": "python3"
  },
  "language_info": {
   "codemirror_mode": {
    "name": "ipython",
    "version": 3
   },
   "file_extension": ".py",
   "mimetype": "text/x-python",
   "name": "python",
   "nbconvert_exporter": "python",
   "pygments_lexer": "ipython3",
   "version": "3.12.4"
  }
 },
 "nbformat": 4,
 "nbformat_minor": 5
}
