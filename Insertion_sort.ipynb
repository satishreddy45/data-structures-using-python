{
 "cells": [
  {
   "cell_type": "code",
   "execution_count": 6,
   "id": "4a72aa26-1aea-43ce-8af4-394a049e722d",
   "metadata": {},
   "outputs": [
    {
     "name": "stdout",
     "output_type": "stream",
     "text": [
      "[0, 1, 2, 3, 3.3, 5, 6, 7, 8, 223, 382]\n"
     ]
    }
   ],
   "source": [
    "arr = [5,3,6,223,3.3,2,1,7,8,0,382]\n",
    "\n",
    "for i in range(1,len(arr)):\n",
    "    key = arr[i]\n",
    "    j = i - 1\n",
    "\n",
    "    while(arr[j] > key and j >= 0):\n",
    "        arr[j+1] = arr[j]\n",
    "        j = j - 1\n",
    "        \n",
    "    arr[j+1] = key\n",
    "    \n",
    "print(arr)"
   ]
  },
  {
   "cell_type": "code",
   "execution_count": null,
   "id": "48872b80-b066-4227-a246-0bb03cd3ebb8",
   "metadata": {},
   "outputs": [],
   "source": []
  }
 ],
 "metadata": {
  "kernelspec": {
   "display_name": "Python 3 (ipykernel)",
   "language": "python",
   "name": "python3"
  },
  "language_info": {
   "codemirror_mode": {
    "name": "ipython",
    "version": 3
   },
   "file_extension": ".py",
   "mimetype": "text/x-python",
   "name": "python",
   "nbconvert_exporter": "python",
   "pygments_lexer": "ipython3",
   "version": "3.12.2"
  }
 },
 "nbformat": 4,
 "nbformat_minor": 5
}
