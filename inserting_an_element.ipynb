{
 "cells": [
  {
   "cell_type": "code",
   "execution_count": 3,
   "id": "2bdb8094-6a44-4bd7-9e83-1af87c7215d5",
   "metadata": {},
   "outputs": [
    {
     "name": "stdout",
     "output_type": "stream",
     "text": [
      "Array before insertion: [10, 20, 30, 40, 50]\n",
      "Array after inserting 25 : [10, 20, 25, 30, 40, 50]\n"
     ]
    }
   ],
   "source": [
    "def insert_sorted(arr, element):\n",
    "    index = 0\n",
    "    while index < len(arr) and arr[index] < element:\n",
    "        index += 1\n",
    "    arr.append(0)  \n",
    "    for i in range(len(arr) - 1, index, -1):\n",
    "        arr[i] = arr[i - 1]\n",
    "    arr[index] = element  \n",
    "    return arr\n",
    "\n",
    "arr = [10, 20, 30, 40, 50]\n",
    "element = 25\n",
    "print(\"Array before insertion:\", arr)\n",
    "print(\"Array after inserting\", element, \":\", insert_sorted(arr, element))"
   ]
  },
  {
   "cell_type": "code",
   "execution_count": null,
   "id": "3810e4f9-2dd0-445d-92a2-e8dc273b0d62",
   "metadata": {},
   "outputs": [],
   "source": []
  }
 ],
 "metadata": {
  "kernelspec": {
   "display_name": "Python 3 (ipykernel)",
   "language": "python",
   "name": "python3"
  },
  "language_info": {
   "codemirror_mode": {
    "name": "ipython",
    "version": 3
   },
   "file_extension": ".py",
   "mimetype": "text/x-python",
   "name": "python",
   "nbconvert_exporter": "python",
   "pygments_lexer": "ipython3",
   "version": "3.12.4"
  }
 },
 "nbformat": 4,
 "nbformat_minor": 5
}
