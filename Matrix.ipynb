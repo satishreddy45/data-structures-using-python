{
 "cells": [
  {
   "cell_type": "code",
   "execution_count": 3,
   "id": "1c1f5fc6-96d3-444f-a7d4-23f9ff6c1acb",
   "metadata": {},
   "outputs": [
    {
     "name": "stdout",
     "output_type": "stream",
     "text": [
      "[[1, 2, 3, 4, 5, 6], [4, 5, 6, 7, 8, 9], [1, 2, 3, 4, 5, 6], [4, 5, 6, 7, 8, 9], [1, 2, 3, 4, 5, 6], [4, 5, 6, 7, 8, 9]]\n"
     ]
    }
   ],
   "source": [
    "matrix = [[1, 2, 3], \n",
    "    [4,5, 6],\n",
    "    [7,8,9]]\n",
    "\n",
    "size = len(matrix)\n",
    "result = []\n",
    "\n",
    "for i in range(0,size):\n",
    "    for j in range(0, size-1):\n",
    "        z = matrix[j] + matrix[j+1]\n",
    "        result.append(z)\n",
    "\n",
    "print(result)"
   ]
  },
  {
   "cell_type": "code",
   "execution_count": null,
   "id": "04a12057-0801-48b4-a858-0036abb18c12",
   "metadata": {},
   "outputs": [],
   "source": []
  }
 ],
 "metadata": {
  "kernelspec": {
   "display_name": "Python 3 (ipykernel)",
   "language": "python",
   "name": "python3"
  },
  "language_info": {
   "codemirror_mode": {
    "name": "ipython",
    "version": 3
   },
   "file_extension": ".py",
   "mimetype": "text/x-python",
   "name": "python",
   "nbconvert_exporter": "python",
   "pygments_lexer": "ipython3",
   "version": "3.12.2"
  }
 },
 "nbformat": 4,
 "nbformat_minor": 5
}
