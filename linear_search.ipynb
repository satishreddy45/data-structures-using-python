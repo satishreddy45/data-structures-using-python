{
 "cells": [
  {
   "cell_type": "code",
   "execution_count": 10,
   "id": "b605ce3e-39df-49ec-b2ed-08dd13b44405",
   "metadata": {},
   "outputs": [
    {
     "name": "stdin",
     "output_type": "stream",
     "text": [
      "Enter number of elements:  5\n",
      "Enter element:  10\n",
      "Enter element:  20\n",
      "Enter element:  30\n",
      "Enter element:  40\n",
      "Enter element:  50\n",
      "Enter the searching element:  30\n"
     ]
    },
    {
     "name": "stdout",
     "output_type": "stream",
     "text": [
      "Element is found at index 2\n"
     ]
    }
   ],
   "source": [
    "def linear_search(lst, key):\n",
    "    size = len(lst)\n",
    "    index = 0\n",
    "    while index < size:\n",
    "        if lst[index] == key:\n",
    "            return index\n",
    "        index += 1\n",
    "    return -1\n",
    "\n",
    "n = int(input(\"Enter number of elements: \"))\n",
    "lst = []\n",
    "for i in range(n):\n",
    "    num = int(input(\"Enter element: \"))\n",
    "    lst.append(num)\n",
    "\n",
    "key = int(input(\"Enter the searching element: \"))\n",
    "position = linear_search(lst, key)\n",
    "\n",
    "if position == -1:\n",
    "    print(\"Element not found\")\n",
    "else:\n",
    "    print(f\"Element is found at index {position}\")"
   ]
  },
  {
   "cell_type": "code",
   "execution_count": null,
   "id": "428c6bc2-ba54-49e6-963e-753ee6e9b0af",
   "metadata": {},
   "outputs": [],
   "source": []
  }
 ],
 "metadata": {
  "kernelspec": {
   "display_name": "Python 3 (ipykernel)",
   "language": "python",
   "name": "python3"
  },
  "language_info": {
   "codemirror_mode": {
    "name": "ipython",
    "version": 3
   },
   "file_extension": ".py",
   "mimetype": "text/x-python",
   "name": "python",
   "nbconvert_exporter": "python",
   "pygments_lexer": "ipython3",
   "version": "3.12.4"
  }
 },
 "nbformat": 4,
 "nbformat_minor": 5
}
