{
 "cells": [
  {
   "cell_type": "code",
   "execution_count": 2,
   "id": "148b67cc-d15f-4973-8646-5e85f01e0b6d",
   "metadata": {},
   "outputs": [
    {
     "name": "stdout",
     "output_type": "stream",
     "text": [
      "Second Highest: 7\n"
     ]
    }
   ],
   "source": [
    "def second_highest(numbers):\n",
    "    highest = second = float('-inf')\n",
    "    for num in numbers:\n",
    "        if num > highest:\n",
    "            second = highest\n",
    "            highest = num\n",
    "        elif num > second and num != highest:\n",
    "            second = num\n",
    "    return second if second != float('-inf') else None\n",
    "numbers = [3, 1, 7, 2, 5, 9]\n",
    "print(\"Second Highest:\", second_highest(numbers))"
   ]
  },
  {
   "cell_type": "code",
   "execution_count": null,
   "id": "f4710aa1-c399-4b7c-8937-3cad8eb9a002",
   "metadata": {},
   "outputs": [],
   "source": []
  }
 ],
 "metadata": {
  "kernelspec": {
   "display_name": "Python 3 (ipykernel)",
   "language": "python",
   "name": "python3"
  },
  "language_info": {
   "codemirror_mode": {
    "name": "ipython",
    "version": 3
   },
   "file_extension": ".py",
   "mimetype": "text/x-python",
   "name": "python",
   "nbconvert_exporter": "python",
   "pygments_lexer": "ipython3",
   "version": "3.12.4"
  }
 },
 "nbformat": 4,
 "nbformat_minor": 5
}
