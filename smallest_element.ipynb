{
 "cells": [
  {
   "cell_type": "code",
   "execution_count": 1,
   "id": "b9acad75-1fa7-47bc-9f55-dd6eca7d2500",
   "metadata": {},
   "outputs": [
    {
     "name": "stdout",
     "output_type": "stream",
     "text": [
      "Smallest: 1\n"
     ]
    }
   ],
   "source": [
    "def find_smallest(numbers):\n",
    "    smallest = numbers[0]\n",
    "    for num in numbers:\n",
    "        if num < smallest:\n",
    "            smallest = num\n",
    "    return smallest\n",
    "\n",
    "numbers = [3, 1, 7, 2, 5, 9]\n",
    "print(\"Smallest:\", find_smallest(numbers))"
   ]
  },
  {
   "cell_type": "code",
   "execution_count": null,
   "id": "e528752b-7fbd-46fd-a104-214204989595",
   "metadata": {},
   "outputs": [],
   "source": []
  }
 ],
 "metadata": {
  "kernelspec": {
   "display_name": "Python 3 (ipykernel)",
   "language": "python",
   "name": "python3"
  },
  "language_info": {
   "codemirror_mode": {
    "name": "ipython",
    "version": 3
   },
   "file_extension": ".py",
   "mimetype": "text/x-python",
   "name": "python",
   "nbconvert_exporter": "python",
   "pygments_lexer": "ipython3",
   "version": "3.12.4"
  }
 },
 "nbformat": 4,
 "nbformat_minor": 5
}
