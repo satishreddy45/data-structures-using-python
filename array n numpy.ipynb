{
 "cells": [
  {
   "cell_type": "code",
   "execution_count": 1,
   "id": "cdf24e52-80e9-4b47-b3be-6957337ea88c",
   "metadata": {},
   "outputs": [],
   "source": [
    "import array as arr"
   ]
  },
  {
   "cell_type": "code",
   "execution_count": 5,
   "id": "a6d095dd-5ea8-46cd-9dec-bd9fc58b468d",
   "metadata": {},
   "outputs": [
    {
     "data": {
      "text/plain": [
       "array.array"
      ]
     },
     "execution_count": 5,
     "metadata": {},
     "output_type": "execute_result"
    }
   ],
   "source": [
    "x = arr.array('i',[3,52,7,8,4,5])\n",
    "type(x)"
   ]
  },
  {
   "cell_type": "code",
   "execution_count": 10,
   "id": "6ca9b081-6620-4f8c-892e-bc5b25f2fc94",
   "metadata": {},
   "outputs": [
    {
     "name": "stdout",
     "output_type": "stream",
     "text": [
      "Average = 13.166666666666666\n"
     ]
    }
   ],
   "source": [
    "avg = sum(x) / len(x)\n",
    "print(\"Average =\", avg)"
   ]
  },
  {
   "cell_type": "code",
   "execution_count": 11,
   "id": "2c939faf-e413-4b8b-a804-43a53d2c43c2",
   "metadata": {},
   "outputs": [],
   "source": [
    "import numpy as np"
   ]
  },
  {
   "cell_type": "code",
   "execution_count": 19,
   "id": "d6e0fc39-ab68-4542-be8b-21ec29a9f23b",
   "metadata": {},
   "outputs": [
    {
     "data": {
      "text/plain": [
       "numpy.ndarray"
      ]
     },
     "execution_count": 19,
     "metadata": {},
     "output_type": "execute_result"
    }
   ],
   "source": [
    "y = np.array([3,52,7,8,4,5])\n",
    "n = len(y)\n",
    "type(y)"
   ]
  },
  {
   "cell_type": "code",
   "execution_count": 22,
   "id": "04b991ce-ec2b-48c8-9f16-8b06bac32561",
   "metadata": {},
   "outputs": [
    {
     "name": "stdout",
     "output_type": "stream",
     "text": [
      "5 4 8 7 52 3 "
     ]
    }
   ],
   "source": [
    "for i in range(n-1, -1, -1):\n",
    "    print(y[i], end=\" \")"
   ]
  },
  {
   "cell_type": "code",
   "execution_count": 23,
   "id": "cdfcf456-cb8e-4ea0-8d1f-77aad93cbbf6",
   "metadata": {},
   "outputs": [
    {
     "name": "stdout",
     "output_type": "stream",
     "text": [
      "[ 5  4  8  7 52  3]\n"
     ]
    }
   ],
   "source": [
    "print(y[::-1])"
   ]
  },
  {
   "cell_type": "code",
   "execution_count": 53,
   "id": "eb0fad77-faf1-4fbe-896f-9ec675b0d089",
   "metadata": {},
   "outputs": [
    {
     "name": "stdout",
     "output_type": "stream",
     "text": [
      "[3, 52, 7, 8, 4, 5, 2, 0, 1]\n"
     ]
    }
   ],
   "source": [
    "z = np.array([3,52,7,8,4,5,5,3,2,0,1,4,2])\n",
    "n1 = len(z)\n",
    "distinct = []\n",
    "dup = []\n",
    "\n",
    "for i in range(n1):\n",
    "    if z[i] not in distinct:\n",
    "        distinct.append(z[i])\n",
    "\n",
    "print(distinct)"
   ]
  },
  {
   "cell_type": "code",
   "execution_count": 54,
   "id": "0e23209b-0568-4ed1-8dd2-ae79de1cb59f",
   "metadata": {},
   "outputs": [
    {
     "name": "stdout",
     "output_type": "stream",
     "text": [
      "[3, 52, 7, 8, 4, 5, 2, 0, 1]\n",
      "[5, 3, 4, 2]\n"
     ]
    }
   ],
   "source": [
    "z = np.array([3,52,7,8,4,5,5,3,2,0,1,4,2])\n",
    "distinct = []\n",
    "dup = []\n",
    "\n",
    "for i in z:\n",
    "    if i not in distinct:\n",
    "        distinct.append(i)\n",
    "    else:\n",
    "        dup.append(i)\n",
    "\n",
    "print(distinct)\n",
    "print(dup)"
   ]
  },
  {
   "cell_type": "code",
   "execution_count": 61,
   "id": "7b87e8c0-d2b0-48bc-bda9-337e7410cab5",
   "metadata": {},
   "outputs": [
    {
     "data": {
      "text/plain": [
       "[0, 1, 2, 3, 4, 5, 7, 8, 52]"
      ]
     },
     "execution_count": 61,
     "metadata": {},
     "output_type": "execute_result"
    }
   ],
   "source": [
    "a = np.array([3,52,7,8,4,5,5,3,2,0,1,4,2])\n",
    "d = list(set(a))\n",
    "type(d)\n",
    "d"
   ]
  },
  {
   "cell_type": "code",
   "execution_count": 68,
   "id": "eaca9d03-f97a-48ca-bfcd-691b1af7301f",
   "metadata": {},
   "outputs": [
    {
     "name": "stdin",
     "output_type": "stream",
     "text": [
      " 3 4 5 6 67 1\n",
      " 3\n"
     ]
    },
    {
     "data": {
      "text/plain": [
       "0"
      ]
     },
     "execution_count": 68,
     "metadata": {},
     "output_type": "execute_result"
    }
   ],
   "source": [
    "a = [int(x) for x in input().split()]  \n",
    "b = int(input())  \n",
    "\n",
    "def index_elem(a,b):\n",
    "    if b in a:\n",
    "        return 0\n",
    "    else:\n",
    "        return -1\n",
    "\n",
    "index_elem(a,b)"
   ]
  },
  {
   "cell_type": "code",
   "execution_count": null,
   "id": "63066a17-8063-47d2-8d79-a173b42c8415",
   "metadata": {},
   "outputs": [],
   "source": []
  }
 ],
 "metadata": {
  "kernelspec": {
   "display_name": "Python 3 (ipykernel)",
   "language": "python",
   "name": "python3"
  },
  "language_info": {
   "codemirror_mode": {
    "name": "ipython",
    "version": 3
   },
   "file_extension": ".py",
   "mimetype": "text/x-python",
   "name": "python",
   "nbconvert_exporter": "python",
   "pygments_lexer": "ipython3",
   "version": "3.12.2"
  }
 },
 "nbformat": 4,
 "nbformat_minor": 5
}
