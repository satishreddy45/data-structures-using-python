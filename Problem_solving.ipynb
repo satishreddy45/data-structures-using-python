{
 "cells": [
  {
   "cell_type": "code",
   "execution_count": 2,
   "id": "9783adc1-0a62-4c25-b1ca-72a8b47d89f4",
   "metadata": {},
   "outputs": [
    {
     "name": "stdin",
     "output_type": "stream",
     "text": [
      " 3 4 5 6 7 \n"
     ]
    },
    {
     "name": "stdout",
     "output_type": "stream",
     "text": [
      "The resulting tuple is: (12, 20, 30, 42)\n"
     ]
    }
   ],
   "source": [
    "y = []\n",
    "e = list(map(int, input().split()))\n",
    "\n",
    "for i in range(len(e) - 1):\n",
    "    y.append(e[i] * e[i + 1])\n",
    "\n",
    "y = tuple(y)\n",
    "print(\"The resulting tuple is:\", y)"
   ]
  },
  {
   "cell_type": "code",
   "execution_count": 3,
   "id": "70c49aec-a2ca-4ce6-afdc-9337b15e2132",
   "metadata": {},
   "outputs": [
    {
     "name": "stdout",
     "output_type": "stream",
     "text": [
      "After sorting: [(1, 2), (2, 3), (4, 4), (2, 5)]\n"
     ]
    }
   ],
   "source": [
    "num = [(2,5),(1,2),(4,4),(2,3)]\n",
    "size = len(num) \n",
    "\n",
    "for i in range(0, size):\n",
    "    for j in range(0, size - i - 1):\n",
    "        if num[j][1] > num[j + 1][1]:\n",
    "            num[j],num[j+1] = num[j+1],num[j]\n",
    "print(\"After sorting:\", num)"
   ]
  },
  {
   "cell_type": "code",
   "execution_count": 4,
   "id": "c8bd7223-7bf1-45a4-95b7-c912f3fc9264",
   "metadata": {},
   "outputs": [
    {
     "name": "stdin",
     "output_type": "stream",
     "text": [
      " 3\n"
     ]
    },
    {
     "name": "stdout",
     "output_type": "stream",
     "text": [
      "{2: 3, 3: 3, 1: 2, 4: 1}\n",
      "[(2, 3), (3, 3), (1, 4), (2, 4), (2, 5), (3, 4), (1, 4), (3, 4), (4, 7)]\n"
     ]
    }
   ],
   "source": [
    "num1 = [(2,3),(3,3),(1,4),(2,4),(2,5),(3,4),(1,4),(3,4),(4,7)]\n",
    "k = int(input())\n",
    "\n",
    "size = len(num1)\n",
    "mydict ={}\n",
    "newarray=[]\n",
    "\n",
    "for i in range(size):\n",
    "    if num1[i][0] in mydict:\n",
    "        mydict[num1[i][0]] += 1\n",
    "    else:\n",
    "        mydict[num1[i][0]] = 1\n",
    "\n",
    "    if num1[i][0] in mydict and mydict[num1[i][0]] <= k:\n",
    "        newarray.append(num1[i])\n",
    "\n",
    "print(mydict)\n",
    "print(newarray)"
   ]
  },
  {
   "cell_type": "code",
   "execution_count": 12,
   "id": "6bd83fb4-b4d0-4d00-b0b1-5e26fe314d70",
   "metadata": {},
   "outputs": [
    {
     "name": "stdout",
     "output_type": "stream",
     "text": [
      "[1200000, 600000, 400000, 300000, 240000]\n"
     ]
    }
   ],
   "source": [
    "arr = [10, 20, 30, 40, 50]\n",
    "n = len(arr)\n",
    "prod_arr = []\n",
    "\n",
    "for i in range(n):\n",
    "    product = 1\n",
    "    for j in range(n):\n",
    "        if j != i:\n",
    "            product *= arr[j]\n",
    "    prod_arr.append(product)\n",
    "\n",
    "print(prod_arr)"
   ]
  },
  {
   "cell_type": "code",
   "execution_count": 11,
   "id": "5c18c58f-6583-4a04-b7f6-169c1e5dad62",
   "metadata": {},
   "outputs": [
    {
     "name": "stdout",
     "output_type": "stream",
     "text": [
      "[120, 60, 40, 30, 24]\n"
     ]
    }
   ],
   "source": [
    "arr = [1, 2, 3, 4, 5]\n",
    "total_product = 1\n",
    "\n",
    "for num in arr:\n",
    "    total_product *= num\n",
    "\n",
    "prod_arr = [total_product // num for num in arr]\n",
    "\n",
    "print(prod_arr)"
   ]
  },
  {
   "cell_type": "code",
   "execution_count": 1,
   "id": "13f7261c-1eab-460f-b426-06a4a345143c",
   "metadata": {},
   "outputs": [
    {
     "name": "stdout",
     "output_type": "stream",
     "text": [
      "4\n"
     ]
    }
   ],
   "source": [
    "def example(n, d, l, h):\n",
    "    while l <= h:\n",
    "        mid = (l + h) // 2\n",
    "        sumd = sum(int(digit) for digit in str(mid))\n",
    "        diff = mid - sumd\n",
    "        \n",
    "        if diff <= d:\n",
    "            l = mid + 1\n",
    "        else:\n",
    "            h = mid - 1\n",
    "    else:\n",
    "        return (n - h)\n",
    "\n",
    "print(example(13, 2, 1, 13))"
   ]
  },
  {
   "cell_type": "code",
   "execution_count": null,
   "id": "f467d3a0-90d5-4e3e-a79f-cd7ad667f5e6",
   "metadata": {},
   "outputs": [],
   "source": []
  }
 ],
 "metadata": {
  "kernelspec": {
   "display_name": "Python 3 (ipykernel)",
   "language": "python",
   "name": "python3"
  },
  "language_info": {
   "codemirror_mode": {
    "name": "ipython",
    "version": 3
   },
   "file_extension": ".py",
   "mimetype": "text/x-python",
   "name": "python",
   "nbconvert_exporter": "python",
   "pygments_lexer": "ipython3",
   "version": "3.12.2"
  }
 },
 "nbformat": 4,
 "nbformat_minor": 5
}
