{
 "cells": [
  {
   "cell_type": "code",
   "execution_count": 8,
   "id": "8802402e-d66e-42f9-8e9b-6b86acdb2e82",
   "metadata": {},
   "outputs": [
    {
     "name": "stdout",
     "output_type": "stream",
     "text": [
      "Before sorting: [6, 5, 2, 8, 9, 4]\n",
      "\n",
      "\n",
      "After sorting: [2, 5, 6, 8, 9, 4]\n",
      "After sorting: [2, 4, 6, 8, 9, 5]\n",
      "After sorting: [2, 4, 5, 8, 9, 6]\n",
      "After sorting: [2, 4, 5, 6, 9, 8]\n",
      "After sorting: [2, 4, 5, 6, 8, 9]\n"
     ]
    }
   ],
   "source": [
    "num = [6, 5, 2, 8, 9, 4]  # List of numbers to sort\n",
    "size = len(num)  \n",
    "minIndex = -1\n",
    "\n",
    "# Print the array before sorting\n",
    "print(\"Before sorting:\", num)\n",
    "print(\"\\n\")\n",
    "\n",
    "# Selection Sort Algorithm\n",
    "for i in range(0, size-1):\n",
    "    minIndex = i\n",
    "    \n",
    "    for j in range(i, size):\n",
    "        if num[minIndex] > num[j]:\n",
    "            minIndex = j\n",
    "            \n",
    "    num[minIndex], num[i] = num[i], num[minIndex]\n",
    "    print(\"After sorting:\", num)"
   ]
  },
  {
   "cell_type": "code",
   "execution_count": null,
   "id": "a92ce43c-896c-457d-9f82-a2a36b01d236",
   "metadata": {},
   "outputs": [],
   "source": []
  }
 ],
 "metadata": {
  "kernelspec": {
   "display_name": "Python 3 (ipykernel)",
   "language": "python",
   "name": "python3"
  },
  "language_info": {
   "codemirror_mode": {
    "name": "ipython",
    "version": 3
   },
   "file_extension": ".py",
   "mimetype": "text/x-python",
   "name": "python",
   "nbconvert_exporter": "python",
   "pygments_lexer": "ipython3",
   "version": "3.12.2"
  }
 },
 "nbformat": 4,
 "nbformat_minor": 5
}
