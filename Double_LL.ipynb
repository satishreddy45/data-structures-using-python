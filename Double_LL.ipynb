{
 "cells": [
  {
   "cell_type": "code",
   "execution_count": 4,
   "id": "778992b3-bffe-488d-9278-59f07533804e",
   "metadata": {},
   "outputs": [
    {
     "name": "stdout",
     "output_type": "stream",
     "text": [
      "10 -> 20 -> 30 -> None\n"
     ]
    }
   ],
   "source": [
    "class Node:\n",
    "    def __init__(self,data):\n",
    "        self.data = data\n",
    "        self.prev = None\n",
    "        self.next = None\n",
    "\n",
    "class Double_LL:\n",
    "    def __init__(self):\n",
    "        self.head = None\n",
    "\n",
    "    def display(self):\n",
    "        if self.head is None:\n",
    "            print(\"LL is empty\")\n",
    "        else:\n",
    "            temp = self.head\n",
    "            while temp:\n",
    "                print(temp.data,\"->\", end=\" \")\n",
    "                temp = temp.next\n",
    "            print(\"None\")\n",
    "\n",
    "D = Double_LL()\n",
    "n1 = Node(10)\n",
    "D.head = n1\n",
    "\n",
    "n2 = Node(20)\n",
    "n1.next = n2\n",
    "n2.prev = n1\n",
    "\n",
    "n3 = Node(30)\n",
    "n2.next = n3\n",
    "n3.prev = n2\n",
    "\n",
    "\n",
    "D.display()"
   ]
  },
  {
   "cell_type": "code",
   "execution_count": null,
   "id": "7fafcdd2-5654-440e-aa05-b20120cd5aa3",
   "metadata": {},
   "outputs": [],
   "source": []
  }
 ],
 "metadata": {
  "kernelspec": {
   "display_name": "Python 3 (ipykernel)",
   "language": "python",
   "name": "python3"
  },
  "language_info": {
   "codemirror_mode": {
    "name": "ipython",
    "version": 3
   },
   "file_extension": ".py",
   "mimetype": "text/x-python",
   "name": "python",
   "nbconvert_exporter": "python",
   "pygments_lexer": "ipython3",
   "version": "3.12.2"
  }
 },
 "nbformat": 4,
 "nbformat_minor": 5
}
