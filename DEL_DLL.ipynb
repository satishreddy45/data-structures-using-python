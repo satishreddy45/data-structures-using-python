{
 "cells": [
  {
   "cell_type": "code",
   "execution_count": 27,
   "id": "2862b0cf-ff8a-4263-bc99-689af2c08c79",
   "metadata": {},
   "outputs": [
    {
     "name": "stdout",
     "output_type": "stream",
     "text": [
      "10 --> 20 --> 30 --> 40 --> None\n"
     ]
    }
   ],
   "source": [
    "class Node:\n",
    "    def __init__(self,data):\n",
    "        self.data = data\n",
    "        self.prev = None\n",
    "        self.next = None\n",
    "\n",
    "class DLL:\n",
    "    def __init__(self):\n",
    "        self.head = None\n",
    "\n",
    "    def delete_beg(self):\n",
    "        temp1 = self.head\n",
    "        self.head = temp1.next\n",
    "        temp1.next = None\n",
    "        self.head.prev = None\n",
    "\n",
    "    def delete_end(self):\n",
    "        temp2 = self.head.next\n",
    "        before = self.head\n",
    "        while temp2.next is not None:\n",
    "            temp2 = temp2.next\n",
    "            before = before.next\n",
    "\n",
    "        temp2.prev = None\n",
    "        before.next = None\n",
    "\n",
    "\n",
    "    def delete_pos(self,pos):\n",
    "        temp3 = self.head.next\n",
    "        before = self.head\n",
    "\n",
    "        for i in range(1, pos - 1):\n",
    "            temp3 = temp3.next\n",
    "            before = before.next\n",
    "\n",
    "        before.next = temp3.next\n",
    "        temp3.next.prev = before\n",
    "        temp3.prev = None\n",
    "        temp3.next = None\n",
    "        \n",
    "\n",
    "    def display(self):\n",
    "        if self.head is None:\n",
    "            print(\"LL is Empty\")\n",
    "        else:\n",
    "            temp = self.head\n",
    "            while temp:\n",
    "                print(temp.data,\"-->\",end=\" \")\n",
    "                temp = temp.next\n",
    "            print(\"None\")\n",
    "\n",
    "D = DLL()\n",
    "n1 = Node(10)\n",
    "D.head = n1\n",
    "\n",
    "n2 = Node(20)\n",
    "n2.prev = n1\n",
    "n1.next = n2\n",
    "\n",
    "n3 = Node(30)\n",
    "n3.prev = n2\n",
    "n2.next = n3\n",
    "\n",
    "n4 = Node(40)\n",
    "n4.prev = n3\n",
    "n3.next = n4\n",
    "\n",
    "# D.delete_beg()\n",
    "# D.delete_end()\n",
    "# D.delete_pos(3)\n",
    "D.display()"
   ]
  },
  {
   "cell_type": "code",
   "execution_count": null,
   "id": "7f272162-6134-4193-b939-8249e382fe9b",
   "metadata": {},
   "outputs": [],
   "source": []
  }
 ],
 "metadata": {
  "kernelspec": {
   "display_name": "Python 3 (ipykernel)",
   "language": "python",
   "name": "python3"
  },
  "language_info": {
   "codemirror_mode": {
    "name": "ipython",
    "version": 3
   },
   "file_extension": ".py",
   "mimetype": "text/x-python",
   "name": "python",
   "nbconvert_exporter": "python",
   "pygments_lexer": "ipython3",
   "version": "3.12.2"
  }
 },
 "nbformat": 4,
 "nbformat_minor": 5
}
