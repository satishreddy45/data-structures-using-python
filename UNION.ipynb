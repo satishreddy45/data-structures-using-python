{
 "cells": [
  {
   "cell_type": "code",
   "execution_count": 3,
   "id": "7fe4331f-db49-4e0d-bcd8-e63909ee87fe",
   "metadata": {},
   "outputs": [
    {
     "name": "stdout",
     "output_type": "stream",
     "text": [
      "Union of sets: [1, 2, 3, 4, 5, 6]\n"
     ]
    }
   ],
   "source": [
    "def union_of_sets(set1, set2):\n",
    "    union_set = []\n",
    "    for num in set1:\n",
    "        if num not in union_set:\n",
    "            union_set.append(num)\n",
    "    for num in set2:\n",
    "        if num not in union_set:\n",
    "            union_set.append(num)\n",
    "    return union_set\n",
    "\n",
    "# Example usage\n",
    "set1 = [1, 2, 3, 4]\n",
    "set2 = [3, 4, 5, 6]\n",
    "print(\"Union of sets:\", union_of_sets(set1, set2))"
   ]
  },
  {
   "cell_type": "code",
   "execution_count": null,
   "id": "4f0b0691-ea32-4fb1-8861-f1752f3ae4a7",
   "metadata": {},
   "outputs": [],
   "source": []
  }
 ],
 "metadata": {
  "kernelspec": {
   "display_name": "Python 3 (ipykernel)",
   "language": "python",
   "name": "python3"
  },
  "language_info": {
   "codemirror_mode": {
    "name": "ipython",
    "version": 3
   },
   "file_extension": ".py",
   "mimetype": "text/x-python",
   "name": "python",
   "nbconvert_exporter": "python",
   "pygments_lexer": "ipython3",
   "version": "3.12.4"
  }
 },
 "nbformat": 4,
 "nbformat_minor": 5
}
