{
 "cells": [
  {
   "cell_type": "code",
   "execution_count": 2,
   "id": "813bde93-8e80-4d55-b15b-5596b5ed0609",
   "metadata": {},
   "outputs": [
    {
     "name": "stdout",
     "output_type": "stream",
     "text": [
      "Reversed array: [9, 5, 2, 7, 1, 3]\n"
     ]
    }
   ],
   "source": [
    "def reverse_array(arr):\n",
    "    n = len(arr)\n",
    "    for i in range(n // 2):\n",
    "        arr[i], arr[n - i - 1] = arr[n - i - 1], arr[i] \n",
    "\n",
    "numbers = [3, 1, 7, 2, 5, 9]\n",
    "reverse_array(numbers)\n",
    "print(\"Reversed array:\", numbers)"
   ]
  },
  {
   "cell_type": "code",
   "execution_count": null,
   "id": "186d12dc-1060-4799-9767-f9c9a405d863",
   "metadata": {},
   "outputs": [],
   "source": []
  }
 ],
 "metadata": {
  "kernelspec": {
   "display_name": "Python 3 (ipykernel)",
   "language": "python",
   "name": "python3"
  },
  "language_info": {
   "codemirror_mode": {
    "name": "ipython",
    "version": 3
   },
   "file_extension": ".py",
   "mimetype": "text/x-python",
   "name": "python",
   "nbconvert_exporter": "python",
   "pygments_lexer": "ipython3",
   "version": "3.12.4"
  }
 },
 "nbformat": 4,
 "nbformat_minor": 5
}
