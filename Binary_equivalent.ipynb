{
 "cells": [
  {
   "cell_type": "code",
   "execution_count": 1,
   "id": "a00d453b-2cd1-4de7-bd00-10157ce8305c",
   "metadata": {},
   "outputs": [
    {
     "name": "stdout",
     "output_type": "stream",
     "text": [
      "Binary of 10: 1010\n"
     ]
    }
   ],
   "source": [
    "def decimal_to_binary(n):\n",
    "    binary = \"\"\n",
    "    if n == 0:\n",
    "        return \"0\"\n",
    "    while n > 0:\n",
    "        remainder = n % 2\n",
    "        binary = str(remainder) + binary\n",
    "        n = n // 2\n",
    "    return binary\n",
    "numbers = [3, 1, 7, 2, 5, 9]\n",
    "print(\"Binary of 10:\", decimal_to_binary(10))"
   ]
  },
  {
   "cell_type": "code",
   "execution_count": null,
   "id": "ddd5b877-ea1e-4b9c-a6b0-dc9e94a01802",
   "metadata": {},
   "outputs": [],
   "source": []
  }
 ],
 "metadata": {
  "kernelspec": {
   "display_name": "Python 3 (ipykernel)",
   "language": "python",
   "name": "python3"
  },
  "language_info": {
   "codemirror_mode": {
    "name": "ipython",
    "version": 3
   },
   "file_extension": ".py",
   "mimetype": "text/x-python",
   "name": "python",
   "nbconvert_exporter": "python",
   "pygments_lexer": "ipython3",
   "version": "3.12.4"
  }
 },
 "nbformat": 4,
 "nbformat_minor": 5
}
