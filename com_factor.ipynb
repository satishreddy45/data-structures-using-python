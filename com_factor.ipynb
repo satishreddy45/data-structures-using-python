{
 "cells": [
  {
   "cell_type": "code",
   "execution_count": 1,
   "id": "85281750-7153-4a93-b8d4-da9287327b7a",
   "metadata": {},
   "outputs": [
    {
     "name": "stdout",
     "output_type": "stream",
     "text": [
      "7\n"
     ]
    }
   ],
   "source": [
    "def print_factors(m, n):\n",
    "    fm = []  \n",
    "    for i in range(1, m + 1):\n",
    "        if m % i == 0:\n",
    "            fm.append(i)  \n",
    "\n",
    "    fn = []  \n",
    "    for j in range(1, n + 1):\n",
    "        if n % j == 0:\n",
    "            fn.append(j)  \n",
    "\n",
    "    cf = []\n",
    "    for f in fm:\n",
    "        if f in fn:\n",
    "            cf.append(f)  \n",
    "\n",
    "    return cf[-1]  \n",
    "\n",
    "\n",
    "result = print_factors(14,63)\n",
    "print(result)"
   ]
  },
  {
   "cell_type": "code",
   "execution_count": 2,
   "id": "fe9688b8-1c85-4d63-b97c-dc739e9befab",
   "metadata": {},
   "outputs": [
    {
     "data": {
      "text/plain": [
       "7"
      ]
     },
     "execution_count": 2,
     "metadata": {},
     "output_type": "execute_result"
    }
   ],
   "source": [
    "def gcd(m,n):\n",
    "    cf = []\n",
    "    min1 = min(m,n)\n",
    "    for i in range(1,min1 + 1):\n",
    "        if m%i == 0 and n%i == 0:\n",
    "            cf.append(i)\n",
    "    return cf[-1]\n",
    "\n",
    "gcd(14,63)"
   ]
  },
  {
   "cell_type": "code",
   "execution_count": 3,
   "id": "e401e781-1cf7-4c30-9379-1db651c0a978",
   "metadata": {},
   "outputs": [
    {
     "data": {
      "text/plain": [
       "7"
      ]
     },
     "execution_count": 3,
     "metadata": {},
     "output_type": "execute_result"
    }
   ],
   "source": [
    "def gcd(m,n):\n",
    "    min1 = min(m,n)\n",
    "    for i in range(1,min1 + 1):\n",
    "        if m%i == 0 and n%i == 0:\n",
    "            mrcf = i\n",
    "    return mrcf\n",
    "\n",
    "gcd(14,63)"
   ]
  },
  {
   "cell_type": "code",
   "execution_count": 4,
   "id": "59353003-d6d8-4147-84ad-83ed5e712855",
   "metadata": {},
   "outputs": [
    {
     "name": "stdout",
     "output_type": "stream",
     "text": [
      "7\n"
     ]
    }
   ],
   "source": [
    "def gcd(m,n):\n",
    "    min1 = min(m,n)\n",
    "    for i in range(min1, 1, -1):\n",
    "        if m%i == 0 and n%i == 0:\n",
    "            print(i)\n",
    "            break\n",
    "\n",
    "gcd(14,63)"
   ]
  },
  {
   "cell_type": "code",
   "execution_count": 5,
   "id": "256c6b73-2db2-43c8-bdff-07b23f1160b7",
   "metadata": {},
   "outputs": [
    {
     "data": {
      "text/plain": [
       "7"
      ]
     },
     "execution_count": 5,
     "metadata": {},
     "output_type": "execute_result"
    }
   ],
   "source": [
    "def gcd1(m,n):\n",
    "    i = min(m,n)\n",
    "    while i > 0:\n",
    "        if m%i == 0 and n%i == 0:\n",
    "            return i\n",
    "        else:\n",
    "            i = i-1\n",
    "\n",
    "gcd1(14,63)"
   ]
  },
  {
   "cell_type": "code",
   "execution_count": 19,
   "id": "1cce6341-0aba-4665-b786-fc99728aabca",
   "metadata": {},
   "outputs": [
    {
     "data": {
      "text/plain": [
       "7"
      ]
     },
     "execution_count": 19,
     "metadata": {},
     "output_type": "execute_result"
    }
   ],
   "source": [
    "def gcd(a,b):\n",
    "    if a==0:\n",
    "        return b\n",
    "        \n",
    "    return gcd(b % a, a)\n",
    "\n",
    "gcd(14,63)"
   ]
  }
 ],
 "metadata": {
  "kernelspec": {
   "display_name": "Python 3 (ipykernel)",
   "language": "python",
   "name": "python3"
  },
  "language_info": {
   "codemirror_mode": {
    "name": "ipython",
    "version": 3
   },
   "file_extension": ".py",
   "mimetype": "text/x-python",
   "name": "python",
   "nbconvert_exporter": "python",
   "pygments_lexer": "ipython3",
   "version": "3.12.2"
  }
 },
 "nbformat": 4,
 "nbformat_minor": 5
}
