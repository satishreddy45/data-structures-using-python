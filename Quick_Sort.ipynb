{
 "cells": [
  {
   "cell_type": "code",
   "execution_count": 15,
   "id": "c45a93d9-05ee-4741-9107-9a9d95708ff7",
   "metadata": {},
   "outputs": [
    {
     "name": "stdout",
     "output_type": "stream",
     "text": [
      "[1, 2, 5, 6, 8, 34, 35, 42, 78, 1212]\n"
     ]
    }
   ],
   "source": [
    "arr = [5, 6, 78, 34, 35, 2, 1, 8, 1212, 42]\n",
    "high = len(arr) - 1\n",
    "\n",
    "def quickSort(arr, low, high):\n",
    "    if low < high:\n",
    "        # Find the partition index\n",
    "        pi = partition(arr, low, high)\n",
    "\n",
    "        # Recursively sort the left and right subarrays\n",
    "        quickSort(arr, low, pi - 1)\n",
    "        quickSort(arr, pi + 1, high)\n",
    "\n",
    "def partition(arr, low, high):\n",
    "    pivot = arr[high]  # Select the last element as the pivot\n",
    "    i = low - 1  # Index of the smaller element\n",
    "\n",
    "    # Iterate through the array to rearrange elements\n",
    "    for j in range(low, high):\n",
    "        if arr[j] < pivot:\n",
    "            i += 1\n",
    "            arr[i], arr[j] = arr[j], arr[i]  # Swap smaller element with arr[i]\n",
    "\n",
    "    # Place the pivot in the correct position\n",
    "    arr[i + 1], arr[high] = arr[high], arr[i + 1]\n",
    "    return i + 1\n",
    "\n",
    "# Call the quickSort function\n",
    "quickSort(arr, 0, high)\n",
    "print(arr)"
   ]
  },
  {
   "cell_type": "code",
   "execution_count": 17,
   "id": "75eb6cb7-73bf-438c-899f-1ad524201ca2",
   "metadata": {},
   "outputs": [
    {
     "name": "stdout",
     "output_type": "stream",
     "text": [
      "[1, 2, 5, 6, 8, 34, 35, 42, 78, 1212]\n"
     ]
    }
   ],
   "source": [
    "def quickSort(arr):\n",
    "    if len(arr) <= 1:\n",
    "        return arr  # Base case: return the array if it has 1 or 0 elements\n",
    "\n",
    "    pivot = arr[-1]  # Choose the last element as the pivot\n",
    "    left = [x for x in arr[:-1] if x <= pivot]  # Elements smaller than or equal to the pivot\n",
    "    right = [x for x in arr[:-1] if x > pivot]  # Elements greater than the pivot\n",
    "\n",
    "    return quickSort(left) + [pivot] + quickSort(right)  # Recursively sort and combine\n",
    "\n",
    "# Example usage\n",
    "arr = [5, 6, 78, 34, 35, 2, 1, 8, 1212, 42]\n",
    "sorted_arr = quickSort(arr)\n",
    "print(sorted_arr)\n"
   ]
  },
  {
   "cell_type": "code",
   "execution_count": null,
   "id": "c679bf6b-1b90-444f-9633-1c44cb6492b0",
   "metadata": {},
   "outputs": [],
   "source": []
  }
 ],
 "metadata": {
  "kernelspec": {
   "display_name": "Python 3 (ipykernel)",
   "language": "python",
   "name": "python3"
  },
  "language_info": {
   "codemirror_mode": {
    "name": "ipython",
    "version": 3
   },
   "file_extension": ".py",
   "mimetype": "text/x-python",
   "name": "python",
   "nbconvert_exporter": "python",
   "pygments_lexer": "ipython3",
   "version": "3.12.2"
  }
 },
 "nbformat": 4,
 "nbformat_minor": 5
}
